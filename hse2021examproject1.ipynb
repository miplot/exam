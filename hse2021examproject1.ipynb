{
 "cells": [
  {
   "cell_type": "markdown",
   "metadata": {},
   "source": [
    "# Exam project, topic 1: Equilibrium Trade in Automobile Markets\n",
    "\n",
    "The sequence of tasks below should be performed in order in this\n",
    "notebook. Feel free to add code and markdown cells, but do not change\n",
    "cells that contain the assignment tasks.\n",
    "\n",
    "If the task offers some degree of interpretation (so, don’t tell you what\n",
    "to do exactly), you are free to interpret it in the way you see fit\n",
    "best. But remember to explain which way you are interpreting the task.\n",
    "\n",
    "The grade for the project is based on both the code being correct,\n",
    "efficient, well designed, and written with good code style.\n",
    "In other words the code has to adequately represent and correctly\n",
    "solve the economic model, be well modularized and organized, avoid\n",
    "inefficient algorithms, and be sufficiently documented.\n",
    "[PEP 8](https://www.python.org/dev/peps/pep-0008/)\n",
    "standard is a good reference for coding style\n",
    "(although adhering to every point there is not required).\n",
    "\n",
    "Once you complete the exam project, please, record a screen cast where\n",
    "*all members of your groups* should participate in the presentation.\n",
    "The presentation should explain the model setup, main ideas of the code\n",
    "design and structure, and go through the computations and conclusions.\n",
    "**The length of the video should not exceed 10 min**.\n",
    "To produce a screen cast you can record a shared shared screen in Zoom,\n",
    "or use any other tech. Having your faces in the video is a plus, and\n",
    "try to record in a quiet place to ensure better audio quality."
   ]
  },
  {
   "cell_type": "markdown",
   "metadata": {},
   "source": [
    "## Equilibrium Trade in Automobile Markets\n",
    "\n",
    "This projects is built around the following paper, implementing some of its preliminary models.\n",
    "Feel free to read the entire paper for inspiration, however, note that there is no need to go beyond the tasks in this notebook to complete the exam project.\n",
    "The paper is available in the project repository alongside this notebook.\n",
    "\n",
    "Gillingham, K., Iskhakov, F., Munk-Nielsen, A., Rust, J. P., & Schjerning, B. (2019). Equilibrium Trade in Automobile Markets. National Bureau of Economic Research. [https://doi.org/10.3386/w25840](https://doi.org/10.3386/w25840)\n",
    "\n",
    "The paper contains several gradually more complicated specifications of the\n",
    "equilibrium model in sections 2, 3, 4 and 6.  Appendix A deals with the simplest\n",
    "case of the stationary equilibrium with one car type and identical consumers.\n",
    "This project focuses on this simplest case."
   ]
  },
  {
   "cell_type": "markdown",
   "metadata": {},
   "source": [
    "### Task 1. Homogeneous consumer trading, and welfare maximizing replacement\n",
    "\n",
    "Read section 2.1 for the general setup of the car trading model, and\n",
    "Appendix A for the theory on the homogeneous consumer case.  Read and\n",
    "fully understand the section on welfare maximizing car replacement in\n",
    "Appendix A.\n",
    "\n",
    "Identify the fundamental parameters of the model:\n",
    "\n",
    "- the upper bound on the age of the car $ A $  \n",
    "- utility of car usage $ u(a) $  \n",
    "- marginal utility of money $ \\mu $  \n",
    "- discount factor $ \\beta $  \n",
    "- accident probability function $ \\alpha(a) $  \n",
    "- maximum $ \\overline{P} $ and minimum $ \\underline{P} $ price on the market  \n",
    "\n",
    "\n",
    "Identify the equilibrium variables:\n",
    "\n",
    "- equilibrium price schedule $ P(a) $  \n",
    "- equilibrium scrappage age  \n",
    "- equilibrium holdings distribution  \n",
    "\n",
    "\n",
    "Make sure you completely understand the meaning of all the variables entering\n",
    "the Bellman equation 41-43, and the Bellman equation 48:\n",
    "\n",
    "- **State variables** — vector of variables that describe all relevant\n",
    "  information about the modeled decision process  \n",
    "- **Decision variables** — vector of variables describing the choices  \n",
    "- **Instantaneous payoff** — utility function with time separable discounted utility  \n",
    "- **Motion rules** — agent’s beliefs of how state variable evolve\n",
    "  through time, conditional on choices  \n",
    "- **Value function** — maximum attainable utility  \n",
    "- **Policy function** — mapping from state space to action space that\n",
    "  returns the optimal choice  \n",
    "\n",
    "\n",
    "Make a concise summary of the two models to be used in the video\n",
    "presentation, and explain what connects them."
   ]
  },
  {
   "cell_type": "markdown",
   "metadata": {},
   "source": [
    "## Group presentation video\n",
    "\n"
   ]
  },
  {
   "cell_type": "markdown",
   "metadata": {},
   "source": [
    "https://drive.google.com/file/d/1gg36xJRgjDvjAkb73YSViV3uiAwdooNo/view?usp=sharing"
   ]
  },
  {
   "cell_type": "markdown",
   "metadata": {},
   "source": [
    "## Summary\n",
    "- Homogeneous Consumer Economy \n",
    "- Welfare maximizing car replacement\n",
    "\n",
    "\n",
    "Kenneth Gillingham & Fedor Iskhakov & Anders Munk-Nielsen & John P. Rust & Bertel Schjerning, 2019. \"Equilibrium Trade in Automobile Markets\" \n",
    "### Homogeneous Consumer Economy (eq 41- 43)\n",
    "We examine a discrete trading market of cars.   \n",
    "We have a one type of consumers with equal preferences. \n",
    "And one type of cars, which differ only by age. Every consumer owns one car. Age of car $ a $ is: $ 1 \\le a < A $, where $ A $ is given upper boundary.  \n",
    "Every period consumer's car gets 1 year older.  There is a special age of car $\\gamma$, when a car becomes scrap (becomes too old so can't be traded anymore; or it has got into an accident and $\\gamma$ is assigned automatically). Consumers are obliged to sell the scrap cars and to buy new ones.This $\\gamma$ is not given, comes from the model endogenously.  \n",
    "##### How can consumer estimate price of his car? \n",
    "Price of a car depends on its age. The older the car, the cheaper it is.\n",
    "In the model we have given price boundaries. Upper boundary is for car from car dealership ($a=0$). Lower boundary is for scrap. Price decreases as the age increases.\n",
    "In other words, $ \\overline{P} $ for cars of age $ a < \\gamma $ and it decreases.\n",
    "$ \\underline{P} $ is the price of scrap - same for each scrap-car.\n",
    "Total price vector for cars of any age in this economy comes from the model solution, when we equate Supply and Demand of cars of a certain age.\n",
    "##### How is the trading process organized? \n",
    "Every period, as the car gets older, consumer have options to keep his old car or to buy another one. So, cars are traded in both new and used car markets. Consumer buy a car from a car dealership ($a=0$), or from another consumer. Ages of traded cars are $ d ∈$ {$0,..., γ − 1$}. We consider a small open economy: infinite elasticityfor supply of new cars and demand for scrap.  \n",
    " Stationary equilibrium in the market for new and used cars is given by  {$ \\overline{a}, P(a), q(P, \\overline{a} )$} - equilibrium  scrappage age, price, holding distribution.\n",
    " ##### How to compute? \n",
    "Consumers evaluate the discounted utility of owning a car in the next period. Their calculation is given by the Bellman equation, where first component $v(a,k)$ - utility of keeping old car, second component $v(a,d)$ - utility of buying a new one.\n",
    "\n",
    "$$\n",
    "V(a) = \\max_{} \\Big\\{ v(a,k);    \\max_{d∈{0,...\\gamma-1}} v(a,d) \\Big\\}\n",
    "$$  \n",
    "$$  \n",
    "v(a,k) = u(a)+\\beta(1-\\alpha(a))V(a+1)+\\beta\\alpha(a)V(A),\n",
    "$$\n",
    "$$  \n",
    "v(a,d) = u(d)-\\mu[P(d)-P(a)]+\\beta(1-\\alpha(d)V(d+1)+\\beta\\alpha(d)V(A)\n",
    "$$  \n",
    "  \n",
    "$u(a)$ - represents utility of owning and driving car of certain age. It decreases while age increases  \n",
    "$\\beta$ - discount factor for the future utility  \n",
    "$\\alpha$ - probability for car get into an accident (and to get maximum age = $A$ automatically)  \n",
    "$(1-\\alpha)$ - is probability for car just to get a year older  \n",
    "$\\mu$ - income effect (if $\\mu$ is big, it means, that the price is significant for the buyer, as his income is small; and vice versa)  \n",
    "Explanation:  \n",
    "$v(a,k)$ - consumer keeps the old car. He gains utility from driving it (which decreases as age increases) plus discounted value of car for the next year, weighted by probabilities: with probability $(1-\\alpha)$ the car gets old for a year, with probability $\\alpha$ the car gets into an accident, which makes it automatically turns it into scarp  \n",
    "$v(a,d)$ - consumer buys a new car. Utility from driving minus the difference in the prices of selling old and buying new car (taking into account the effect of consumer income) plus discounted value of car for the next year, weighted by probabilities: with probability $(1-\\alpha)$ the car gets old for a year, with probability $\\alpha$ the car gets into an accident\n",
    "Solution of this model are equilibrium scrappage age, price, holding distribution and an optimal strategy for consumers who own cars of different ages $a$. It is a strategy of constant switching. Policy functions satisfy the condition of clearing the market\n",
    "### Welfare maximizing car replacement (eq 48)\n",
    "The conditions are the same as for the previous model. But there are several changes:  \n",
    "- In this specification consumers are not able to trade on the secondary market, and so in every period they only have to decide whether to keep their old car of age a or to replace it with a  new one from car dealership.  \n",
    "- $W(a)$ captures the maximum attainable welfare of the consumer owning car of age $a$ - this is instead of $V(a)$  \n",
    "- $\\sigma$ is the smallest age of a car that is replaced under the optimal policy - analogue of $\\gamma$\n",
    "\n",
    "Bellman equation:   \n",
    "\n",
    "$$\n",
    "W(a) = \\max_{} \\Big\\{ w(a,k); w(a,0)\\Big\\}\n",
    "$$\n",
    "$$  \n",
    "w(a,k) = u(a)+\\beta(1-\\alpha(a))W(a+1)+\\beta\\alpha(a)W(A);  \n",
    "$$\n",
    "$$  \n",
    "w(a,0) = u(0)-\\mu(\\overline{P} -\\underline{P})+\\beta(1-\\alpha(0)W(1)+\\beta\\alpha(0)W(A)\n",
    "$$  \n",
    "\n",
    "$w(a,k)$ - decision to keep   \n",
    "$w(a,0)$ - decision to replace \n",
    "\n",
    "The socially optimal replacement policy is given by “keep” when $a < \\sigma$ and “replace” when $a ≥ \\sigma$. \n",
    "\n",
    "Result: equlibrium scrappage age, price, holding distribution, consumer's strategies.\n",
    "#### General consequences, connecting the two models:\n",
    "- Consumers are indifferent between replacing their existing car with the car of any age available in the economy.\n",
    "- The equilibrium is welfare maximizing, in particular the discounted expected utility of all consumers is equal to maximum attainable welfare, V(a) = W(a)."
   ]
  },
  {
   "cell_type": "markdown",
   "metadata": {},
   "source": [
    "### Task 2. Design and implement a Python class to represent two models\n",
    "\n",
    "Code up both the homogeneous consumer trading model given in equations 41-43,\n",
    "and the welfare maximizing car replacement model given in equation 48.\n",
    "\n",
    "Make an argument of whether the two models should be implemented in separate\n",
    "classes or not, and proceed accordingly.\n",
    "\n",
    "- Let the attributes of the class hold the fundamental parameters\n",
    "  of the model  \n",
    "- Write the needed methods to return the accident probabilities  \n",
    "- Let the equilibrium objects also be represented by the attributes of the class  \n",
    "- Implement *init* and *repr* methods.  \n",
    "- Implement the method that computes stationary holding distribution conditional\n",
    "  on the fundamental and the equilibrium objects (Hint: stationary holdings\n",
    "  distribution is defined in A.D1, and physical transition matrix $ Q $ is\n",
    "  given by equation 12)  \n",
    "\n",
    "\n",
    "Decide whether the solver for the model should be methods of the class, or separate\n",
    "functions working with the model object(s), and proceed accordingly by writing the\n",
    "model solvers."
   ]
  },
  {
   "cell_type": "code",
   "execution_count": 61,
   "metadata": {},
   "outputs": [],
   "source": [
    "import numpy as np\n",
    "import scipy\n",
    "import pandas as pd\n",
    "import matplotlib.pyplot as plt\n",
    "%matplotlib inline\n",
    "\n",
    "def u(a):\n",
    "        return np.exp(4 - a/5) \n",
    "    \n",
    "def accident(a):\n",
    "        return 0.05 * np.log(1 + a/3)\n",
    "    \n",
    "class car:\n",
    "\n",
    "    def __init__(self,\n",
    "                 max_A = 50,\n",
    "                 μ = 1,\n",
    "                 β = 0.9,         \n",
    "                 minmax = (50,1)\n",
    "                 ):\n",
    "        '''Create model with default parameters'''\n",
    "        self.μ, self.β = μ, β\n",
    "        self.A = max_A  \n",
    "        self.P_max = max(minmax)\n",
    "        self.P_min = min(minmax)\n",
    "        self.γ = max_A\n",
    "        self.a = np.arange(0,self.A+1)  # all possible values of age (state space)\n",
    "        self.u = u\n",
    "        self.accident = accident\n",
    "    \n",
    "    def __repr__(self):\n",
    "        '''String representation of the model'''\n",
    "        return 'Equilibrium Trade in Automobile Markets with parameters A = {}, 𝜇 = {}, β = {}, P_max = {}, P_min = {}'.format(A,𝜇,β,P_max,P_min)\n",
    "    \n",
    "    def matrixQ(self):\n",
    "        '''Creating a physical transition matrix Q from equation 12 and finding stationary holding distribution'''\n",
    "        Q=np.zeros((self.A+1,self.A+1)) #Just creating a matrix from an equation\n",
    "        for i in range (0,self.A-1):\n",
    "            for j in range(0,self.A+1):\n",
    "                Q[i][j] = 0\n",
    "                if i == j - 1:\n",
    "                    Q[i][j] = 1 - self.accident(i+1)\n",
    "                elif j == self.A:\n",
    "                    Q[i][j] = self.accident(i+1)\n",
    "        for j in range(0,self.A):\n",
    "            Q[self.A - 1][j] = 0\n",
    "            Q[self.A][j] = 0\n",
    "        Q[self.A-1][self.A] = 1\n",
    "        Q[self.A][self.A] = self.accident(0)\n",
    "        Q[self.A][0] = 1 - self.accident(0)\n",
    "        num, vec = np.linalg.eigh(Q) #Finding the eigenvalues and eigenvectors of a matrix using numpy\n",
    "        return vec[0] #The choice of the vector corresponding to num = 1\n",
    "    \n",
    "    def price0(self,a):\n",
    "        '''Creating a simplified price'''\n",
    "        return ((self.P_min - self.P_max)/self.A)*a + self.P_max \n",
    "  \n",
    "    def VS(self, VS0):\n",
    "        '''Coding the homogeneous consumer trading model given in equations 41-43'''\n",
    "        VS1 = np.zeros(self.A+1) #Creating a zero vector, which will be our result\n",
    "        for ia in range(0, self.A): #Iterating over values\n",
    "            v1 = self.u(ia) + self.β*(1 - self.accident(ia))*VS0[ia+1] + self.β*self.accident(ia)*VS0[self.A] #We define the function from equation 42\n",
    "            z = - np.inf #Just some starting point\n",
    "            for d in range (1,self.γ-1): #Finding and saving the maximum value of the function v2\n",
    "                v2 = self.u(d) - self.μ*(self.price0(d) - self.price0(ia)) + self.β*(1 - self.accident(d))*VS0[d+1] + self.β*self.accident(d)*VS0[self.A] #We define the function from equation 43\n",
    "                if z < v2:\n",
    "                    z = v2\n",
    "            VS1[ia] = max(v1,z) #We define the function from equation 41\n",
    "        return VS1\n",
    "        \n",
    "    def W(self, W0):\n",
    "        '''Coding the welfare maximizing car replacement model given in equation 48'''\n",
    "        W1 = np.zeros(self.A+1) #Creating a zero vector, which will be our result   \n",
    "        q = []\n",
    "        for ia in range(0, self.A+1): #Iterating over values\n",
    "            if ia <= self.A - 1:\n",
    "                vv1 = self.u(ia) + self.β*(1 - self.accident(ia))*W0[ia+1] + self.β*self.accident(ia)*W0[self.A] #We define the function from equation 48\n",
    "                vv2 = self.u(0) - self.μ*(self.P_max - self.P_min) + self.β*(1 - self.accident(0))*W0[1] + self.β*self.accident(0)*W0[self.A] #We define the function from equation 48\n",
    "                W1[ia] = max(vv1, vv2) #We define the function from equation 48\n",
    "                if W1[ia] == vv1: q.append(\"k\")\n",
    "                else: q.append(\"0\")\n",
    "            else:\n",
    "                W1[ia] = self.u(0) - self.μ*(self.P_max - self.P_min) + self.β*W0[1] #Situation when a = A\n",
    "        return W1, q\n",
    "            \n",
    "    def solve(self, maxiter = 1000, tol=1e-4, verbose=False):\n",
    "        '''Solves the welfare maximizing car replacement model using successive approximations'''\n",
    "        W1 = np.ones(self.A+1)   #Standard solver, starts with a specific value W1\n",
    "        for i in range(maxiter):\n",
    "            W2, q2=self.W(W1)\n",
    "            z = 0\n",
    "            l = 0\n",
    "            for i in range(len(W1)): #Calculating the standard deviation between vectors\n",
    "                z += abs(W2[i] - W1[i])\n",
    "                l += 1\n",
    "            res = z/l\n",
    "            if verbose: print(\"iter\",i,z) #Some callback\n",
    "            if res < tol:\n",
    "                break\n",
    "            W1 = W2\n",
    "        else: \n",
    "            print('No convergence: maximum number of iterations achieved!')\n",
    "        return W2, q2\n",
    "\n",
    "    def linearr(self, age): \n",
    "        '''Solver function of the linear system in equation 58'''\n",
    "        X = np.zeros((age-1,age-1))\n",
    "        Y = np.zeros((age-1,1))\n",
    "        #finding the matrix X\n",
    "        X[0][0] = self.accident(0)*self.β - self.β - 1 \n",
    "        X[1][0] = 1\n",
    "        for i in range(age-3):\n",
    "            X[i][i+1] = self.β - self.accident(i+1)*self.β\n",
    "            X[i+1][i+1] = self.accident(i+1)*self.β - self.β-1\n",
    "            X[i+2][i+1] = 1      \n",
    "        X[age-3][age-2] = self.β - self.accident(age-2)*self.β\n",
    "        X[age-2][age-2] = self.accident(age-2)*self.β - self.β - 1\n",
    "        #finding the matrix Y\n",
    "        Y[0] = ((self.u(0) - self.u(1))/self.μ + self.β*self.P_min*(self.accident(0) - self.accident(1))) - self.P_max\n",
    "        for k in range(1, age-2):\n",
    "            Y[k] = ((self.u(k) - self.u(k+1))/self.μ + self.β*self.P_min*(self.accident(k) - self.accident(k+1)))\n",
    "        Y[age-2] = (self.u(age-2) - self.u(age-1))/self.μ + self.β*self.P_min*(self.accident(age-2) - 1)\n",
    "        return np.linalg.solve(X,Y)\n",
    "    \n",
    "    def optimal_price(self): #Optimal price for the model 2\n",
    "        k = 0\n",
    "        numb = 0\n",
    "        spisok = self.solve()\n",
    "        for i in spisok[1]:\n",
    "            if i == '0': \n",
    "                numb = k\n",
    "                break\n",
    "            k += 1\n",
    "        price = []\n",
    "        price.append(self.P_max)\n",
    "        for i in range(1, len(spisok[1])):\n",
    "            if i<numb: price.append(self.P_max - (1/self.μ)*(spisok[0][0] - spisok[0][i]))\n",
    "            else: price.append(self.P_min)\n",
    "        print(\"The scrapper age is \"+ str(numb))\n",
    "        return price\n",
    "    \n",
    "    def solve2(self, maxiter = 1000, tol=1e-4, verbose=False):\n",
    "        '''Solves the homogeneous consumer trading model using successive approximations'''\n",
    "        VS0 = np.ones(self.A+1) #Standard solver, starts with a specific value VS0\n",
    "        for i in range(maxiter):\n",
    "            VS2 = self.VS(VS0)\n",
    "            z = 0\n",
    "            l = 0\n",
    "            for i in range(len(VS0)): #Calculating the standard deviation between vectors\n",
    "                z += abs(VS2[i] - VS0[i])\n",
    "                l += 1\n",
    "            res = z/l\n",
    "            if verbose: print(\"iter\",i,z) #Some callback\n",
    "            if res < tol:\n",
    "                break\n",
    "            VS0 = VS2\n",
    "        else:  # when i went up to maxiter\n",
    "            print('No convergence: maximum number of iterations achieved!')\n",
    "        return VS2\n",
    "    "
   ]
  },
  {
   "cell_type": "markdown",
   "metadata": {},
   "source": [
    "### Task 3. Solving the welfare maximizing car replacement model\n",
    "\n",
    "Write a successive approximation (value function iteration) solver for the\n",
    "welfare maximizing car replacement model.  Use lecture 37 as a general guide\n",
    "and any of the discrete choice models in the course for an example of VFI solver.\n",
    "\n",
    "Make illustration of value function convergence as the model is solved."
   ]
  },
  {
   "cell_type": "code",
   "execution_count": 48,
   "metadata": {},
   "outputs": [
    {
     "name": "stdout",
     "output_type": "stream",
     "text": [
      "Policy: ['k', 'k', 'k', 'k', '0', '0', '0', '0']\n"
     ]
    },
    {
     "data": {
      "text/plain": [
       "[<matplotlib.lines.Line2D at 0x1943347bc70>]"
      ]
     },
     "execution_count": 48,
     "metadata": {},
     "output_type": "execute_result"
    },
    {
     "data": {
      "image/png": "[encoded data removed]",
      "text/plain": [
       "<Figure size 432x288 with 1 Axes>"
      ]
     },
     "metadata": {
      "needs_background": "light"
     },
     "output_type": "display_data"
    }
   ],
   "source": [
    "#The VFI code is already inside the class under the name solve\n",
    "model = car()\n",
    "print(\"Policy: \" + str(model.solve()[1][:8]))\n",
    "plt.plot(model.solve()[0])"
   ]
  },
  {
   "cell_type": "code",
   "execution_count": 49,
   "metadata": {},
   "outputs": [
    {
     "data": {
      "text/html": [
       "<div>\n",
       "<style scoped>\n",
       "    .dataframe tbody tr th:only-of-type {\n",
       "        vertical-align: middle;\n",
       "    }\n",
       "\n",
       "    .dataframe tbody tr th {\n",
       "        vertical-align: top;\n",
       "    }\n",
       "\n",
       "    .dataframe thead th {\n",
       "        text-align: right;\n",
       "    }\n",
       "</style>\n",
       "<table border=\"1\" class=\"dataframe\">\n",
       "  <thead>\n",
       "    <tr style=\"text-align: right;\">\n",
       "      <th></th>\n",
       "      <th>0</th>\n",
       "    </tr>\n",
       "  </thead>\n",
       "  <tbody>\n",
       "    <tr>\n",
       "      <th>0</th>\n",
       "      <td>331.555572</td>\n",
       "    </tr>\n",
       "    <tr>\n",
       "      <th>1</th>\n",
       "      <td>307.730562</td>\n",
       "    </tr>\n",
       "    <tr>\n",
       "      <th>2</th>\n",
       "      <td>292.396510</td>\n",
       "    </tr>\n",
       "    <tr>\n",
       "      <th>3</th>\n",
       "      <td>284.264034</td>\n",
       "    </tr>\n",
       "    <tr>\n",
       "      <th>4</th>\n",
       "      <td>282.555572</td>\n",
       "    </tr>\n",
       "    <tr>\n",
       "      <th>5</th>\n",
       "      <td>282.555572</td>\n",
       "    </tr>\n",
       "    <tr>\n",
       "      <th>6</th>\n",
       "      <td>282.555572</td>\n",
       "    </tr>\n",
       "    <tr>\n",
       "      <th>7</th>\n",
       "      <td>282.555572</td>\n",
       "    </tr>\n",
       "  </tbody>\n",
       "</table>\n",
       "</div>"
      ],
      "text/plain": [
       "            0\n",
       "0  331.555572\n",
       "1  307.730562\n",
       "2  292.396510\n",
       "3  284.264034\n",
       "4  282.555572\n",
       "5  282.555572\n",
       "6  282.555572\n",
       "7  282.555572"
      ]
     },
     "execution_count": 49,
     "metadata": {},
     "output_type": "execute_result"
    }
   ],
   "source": [
    "value=model.solve()[0]\n",
    "pd.DataFrame(model.solve()[0][0:8])"
   ]
  },
  {
   "cell_type": "code",
   "execution_count": 50,
   "metadata": {},
   "outputs": [
    {
     "name": "stdout",
     "output_type": "stream",
     "text": [
      "The scrapper age is 4\n"
     ]
    },
    {
     "data": {
      "text/plain": [
       "[<matplotlib.lines.Line2D at 0x194334e4940>]"
      ]
     },
     "execution_count": 50,
     "metadata": {},
     "output_type": "execute_result"
    },
    {
     "data": {
      "image/png": "[encoded data removed]",
      "text/plain": [
       "<Figure size 432x288 with 1 Axes>"
      ]
     },
     "metadata": {
      "needs_background": "light"
     },
     "output_type": "display_data"
    }
   ],
   "source": [
    "plt.plot(model.optimal_price())"
   ]
  },
  {
   "cell_type": "markdown",
   "metadata": {},
   "source": [
    "### Task 4. Main step of the solution algorithm\n",
    "\n",
    "Start writing the solver function by coding up the linear system given in\n",
    "the end of Appendix A in equation 58, and solving it using `numpy` linear solver.\n",
    "\n",
    "This linear solver has to be called repeatedly for multiple values of the\n",
    "scrappage age. Write this function with scrappage age as input, and let it return\n",
    "the equilibrium prices.\n",
    "\n",
    "Make a provision to be able to plot the computed equilibrium prices.\n",
    "Make three plots of equilibrium prices for three scrappage ages of your choice."
   ]
  },
  {
   "cell_type": "code",
   "execution_count": 51,
   "metadata": {},
   "outputs": [
    {
     "name": "stdout",
     "output_type": "stream",
     "text": [
      "Equilibrium prices for scrappage age = 4: \n",
      " [[26.1749889 ]\n",
      " [10.84093577]\n",
      " [ 2.70846   ]]\n"
     ]
    },
    {
     "data": {
      "image/png": "[encoded data removed]",
      "text/plain": [
       "<Figure size 432x288 with 1 Axes>"
      ]
     },
     "metadata": {
      "needs_background": "light"
     },
     "output_type": "display_data"
    }
   ],
   "source": [
    "#The solver function code is already inside the class under the name linearr\n",
    "plt.plot(model.linearr(4)) \n",
    "print(\"Equilibrium prices for scrappage age = 4: \\n\", model.linearr(4))"
   ]
  },
  {
   "cell_type": "code",
   "execution_count": 52,
   "metadata": {},
   "outputs": [
    {
     "name": "stdout",
     "output_type": "stream",
     "text": [
      "Equilibrium prices for scrappage age = 20: \n",
      " [[25.5469502 ]\n",
      " [ 9.49572666]\n",
      " [ 0.53010657]\n",
      " [-2.15787502]]\n"
     ]
    },
    {
     "data": {
      "image/png": "[encoded data removed]",
      "text/plain": [
       "<Figure size 432x288 with 1 Axes>"
      ]
     },
     "metadata": {
      "needs_background": "light"
     },
     "output_type": "display_data"
    }
   ],
   "source": [
    "plt.plot(model.linearr(5))\n",
    "print(\"Equilibrium prices for scrappage age = 20: \\n\", model.linearr(5)) "
   ]
  },
  {
   "cell_type": "code",
   "execution_count": 53,
   "metadata": {},
   "outputs": [
    {
     "name": "stdout",
     "output_type": "stream",
     "text": [
      "Equilibrium prices for scrappage age = 40: \n",
      " [[24.56923862]\n",
      " [ 7.40154597]\n",
      " [-2.86108789]\n",
      " [-7.07395892]\n",
      " [-5.72492787]]\n"
     ]
    },
    {
     "data": {
      "image/png": "[encoded data removed]",
      "text/plain": [
       "<Figure size 432x288 with 1 Axes>"
      ]
     },
     "metadata": {
      "needs_background": "light"
     },
     "output_type": "display_data"
    }
   ],
   "source": [
    "plt.plot(model.linearr(6))\n",
    "print(\"Equilibrium prices for scrappage age = 40: \\n\", model.linearr(6))"
   ]
  },
  {
   "cell_type": "markdown",
   "metadata": {},
   "source": [
    "### Task 5. Completed solution algorithm\n",
    "\n",
    "Complete the solver method by writing the outer loop of the algorithm that would\n",
    "find the optimal scrappage age.  Unlike suggested in the paper, use a simple iteration\n",
    "over the possible scrap ages to find the one that satisfies the condition in Lemma A.L1."
   ]
  },
  {
   "cell_type": "code",
   "execution_count": 54,
   "metadata": {},
   "outputs": [
    {
     "name": "stdout",
     "output_type": "stream",
     "text": [
      "5 is the optimal scrappage age\n",
      "           0\n",
      "0  25.546950\n",
      "1   9.495727\n",
      "2   0.530107\n",
      "3  -2.157875\n"
     ]
    }
   ],
   "source": [
    "for i in range(3, 100):\n",
    "    c = model.linearr(i)\n",
    "    if c[len(c)-1]<model.P_min: \n",
    "        print(str(i) + \" is the optimal scrappage age\")\n",
    "        print(pd.DataFrame(c))\n",
    "        break"
   ]
  },
  {
   "cell_type": "markdown",
   "metadata": {},
   "source": [
    "### Task 6. Verification of the solver\n",
    "\n",
    "Given two independent approaches to solving for the equilibrium prices, you can now\n",
    "check that the results from the two approaches match.\n",
    "\n",
    "To this extent, verify that conditions of Theorem A.T2 (equation 50) hold to a suitable precision."
   ]
  },
  {
   "cell_type": "code",
   "execution_count": 55,
   "metadata": {},
   "outputs": [
    {
     "name": "stdout",
     "output_type": "stream",
     "text": [
      "The scrapper age is 4\n"
     ]
    },
    {
     "data": {
      "text/plain": [
       "[<matplotlib.lines.Line2D at 0x194345fdd60>]"
      ]
     },
     "execution_count": 55,
     "metadata": {},
     "output_type": "execute_result"
    },
    {
     "data": {
      "image/png": "[encoded data removed]",
      "text/plain": [
       "<Figure size 432x288 with 1 Axes>"
      ]
     },
     "metadata": {
      "needs_background": "light"
     },
     "output_type": "display_data"
    }
   ],
   "source": [
    "price_1 = model.optimal_price()\n",
    "plt.plot(price_1[1:5])\n",
    "plt.plot(model.linearr(5))"
   ]
  },
  {
   "cell_type": "markdown",
   "metadata": {},
   "source": [
    "### Task 7. Simple analysis\n",
    "\n",
    "Compute and plot the stationary equilibrium prices and holdings distribution in the used\n",
    "cars market for the following fundamentals:\n",
    "\n",
    "- Let upper bound be $ A=50 $, price boundaries be $ (\\underline{P},\\overline{P})=(50,1) $,\n",
    "  the discount factor be $ \\beta=0.9 $, marginal utility of money equal $ \\mu = 1.0 $,\n",
    "  the utility function be $ u(a) = exp(4 - a/5) $, and the accident probability be\n",
    "  $ \\alpha(a) = 0.05 * Log(1 + x/3) $.  This is the baseline case.  \n",
    "- Next, consider the static case where $ \\beta=0 $.  What is the new equilibrium and\n",
    "  why is it different  \n",
    "- Return to the baseline model, and assume that $ u(a) = 10.0 $, i.e. the utility is\n",
    "  independent of the age of the cars.  How does this equilibrium compare to the baseline? Why?  \n",
    "- Again, return to the baseline model, and assume that the accident rate is twice higher for\n",
    "  all ages of the cars.  Does this have an impact on the equilibrium outcome? Why?  \n",
    "- Returning to the baseline model again, change the marginal utility of money to $ \\mu = 2.0 $ replicating\n",
    "  poorer consumers throughout the market.  How does this equilibrium compare to the baseline? Why?  "
   ]
  },
  {
   "cell_type": "markdown",
   "metadata": {},
   "source": [
    "### β=0"
   ]
  },
  {
   "cell_type": "code",
   "execution_count": 56,
   "metadata": {},
   "outputs": [
    {
     "name": "stdout",
     "output_type": "stream",
     "text": [
      "The scrapper age is 12\n"
     ]
    },
    {
     "data": {
      "text/plain": [
       "[<matplotlib.lines.Line2D at 0x19434650df0>]"
      ]
     },
     "execution_count": 56,
     "metadata": {},
     "output_type": "execute_result"
    },
    {
     "data": {
      "image/png": "[encoded data removed]",
      "text/plain": [
       "<Figure size 432x288 with 1 Axes>"
      ]
     },
     "metadata": {
      "needs_background": "light"
     },
     "output_type": "display_data"
    }
   ],
   "source": [
    "a = car(β=0)\n",
    "price_1 = a.optimal_price()\n",
    "plt.plot(price_1[1:12])\n",
    "plt.plot(a.linearr(12))"
   ]
  },
  {
   "cell_type": "markdown",
   "metadata": {},
   "source": [
    "### u(a)=10"
   ]
  },
  {
   "cell_type": "code",
   "execution_count": 57,
   "metadata": {},
   "outputs": [
    {
     "data": {
      "text/plain": [
       "[<matplotlib.lines.Line2D at 0x194346ae340>]"
      ]
     },
     "execution_count": 57,
     "metadata": {},
     "output_type": "execute_result"
    },
    {
     "data": {
      "image/png": "[encoded data removed]",
      "text/plain": [
       "<Figure size 432x288 with 1 Axes>"
      ]
     },
     "metadata": {
      "needs_background": "light"
     },
     "output_type": "display_data"
    }
   ],
   "source": [
    "def u(a):\n",
    "    return 10\n",
    "a=car()\n",
    "plt.plot(a.linearr(a.P_max))"
   ]
  },
  {
   "cell_type": "markdown",
   "metadata": {},
   "source": [
    "### Accident rate is twice higher for all ages of the cars"
   ]
  },
  {
   "cell_type": "code",
   "execution_count": 66,
   "metadata": {},
   "outputs": [
    {
     "data": {
      "text/plain": [
       "[<matplotlib.lines.Line2D at 0x19434808100>]"
      ]
     },
     "execution_count": 66,
     "metadata": {},
     "output_type": "execute_result"
    },
    {
     "data": {
      "image/png": "[encoded data removed]",
      "text/plain": [
       "<Figure size 432x288 with 1 Axes>"
      ]
     },
     "metadata": {
      "needs_background": "light"
     },
     "output_type": "display_data"
    }
   ],
   "source": [
    "def accident(a):\n",
    "        return 2*(0.05 * np.log(1 + a/3))\n",
    "def u(a):\n",
    "    return np.exp(4 - a/5)\n",
    "a4=car()\n",
    "value_1 = a4.solve()[0]\n",
    "plt.plot(value_1[1:5])"
   ]
  },
  {
   "cell_type": "code",
   "execution_count": 67,
   "metadata": {},
   "outputs": [
    {
     "data": {
      "text/plain": [
       "[<matplotlib.lines.Line2D at 0x19434855610>]"
      ]
     },
     "execution_count": 67,
     "metadata": {},
     "output_type": "execute_result"
    },
    {
     "data": {
      "image/png": "[encoded data removed]",
      "text/plain": [
       "<Figure size 432x288 with 1 Axes>"
      ]
     },
     "metadata": {
      "needs_background": "light"
     },
     "output_type": "display_data"
    }
   ],
   "source": [
    "price_1 = a4.solve()[0]\n",
    "plt.plot(price_1[1:5])\n",
    "plt.plot(value[1:6])"
   ]
  },
  {
   "cell_type": "markdown",
   "metadata": {},
   "source": [
    "### μ = 2"
   ]
  },
  {
   "cell_type": "code",
   "execution_count": 64,
   "metadata": {},
   "outputs": [
    {
     "name": "stdout",
     "output_type": "stream",
     "text": [
      "The scrapper age is 4\n",
      "The scrapper age is 7\n"
     ]
    },
    {
     "data": {
      "text/plain": [
       "[<matplotlib.lines.Line2D at 0x194347192b0>]"
      ]
     },
     "execution_count": 64,
     "metadata": {},
     "output_type": "execute_result"
    },
    {
     "data": {
      "image/png": "[encoded data removed]",
      "text/plain": [
       "<Figure size 432x288 with 1 Axes>"
      ]
     },
     "metadata": {
      "needs_background": "light"
     },
     "output_type": "display_data"
    }
   ],
   "source": [
    "def u(a):\n",
    "        return np.exp(4 - a/5) \n",
    "    \n",
    "def accident(a):\n",
    "        return 0.05 * np.log(1 + a/3)\n",
    "p = car(μ=2)\n",
    "a=car()\n",
    "plt.plot(a.optimal_price()[:10])\n",
    "plt.plot(p.optimal_price()[:10])"
   ]
  },
  {
   "cell_type": "code",
   "execution_count": 65,
   "metadata": {},
   "outputs": [
    {
     "data": {
      "text/plain": [
       "[<matplotlib.lines.Line2D at 0x194347b6070>]"
      ]
     },
     "execution_count": 65,
     "metadata": {},
     "output_type": "execute_result"
    },
    {
     "data": {
      "image/png": "[encoded data removed]",
      "text/plain": [
       "<Figure size 432x288 with 1 Axes>"
      ]
     },
     "metadata": {
      "needs_background": "light"
     },
     "output_type": "display_data"
    }
   ],
   "source": [
    "plt.plot(a.solve()[0][:11])\n",
    "plt.plot(p.solve()[0][:10])"
   ]
  },
  {
   "cell_type": "code",
   "execution_count": null,
   "metadata": {},
   "outputs": [],
   "source": []
  }
 ],
 "metadata": {
  "date": 1639069278.9834912,
  "filename": "hse2021examproject1.rst",
  "kernelspec": {
   "display_name": "Python 3",
   "language": "python",
   "name": "python3"
  },
  "language_info": {
   "codemirror_mode": {
    "name": "ipython",
    "version": 3
   },
   "file_extension": ".py",
   "mimetype": "text/x-python",
   "name": "python",
   "nbconvert_exporter": "python",
   "pygments_lexer": "ipython3",
   "version": "3.8.3"
  },
  "title": "Exam project, topic 1: Equilibrium Trade in Automobile Markets"
 },
 "nbformat": 4,
 "nbformat_minor": 4
}
